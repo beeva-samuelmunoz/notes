{
 "cells": [
  {
   "cell_type": "markdown",
   "metadata": {},
   "source": [
    "# A proposal for\n",
    "## Trully Runnable Obvious Lame-Learning In Issued Guessing\n",
    "### A rocket.ai division"
   ]
  },
  {
   "cell_type": "markdown",
   "metadata": {},
   "source": [
    "# Working with sentiment"
   ]
  },
  {
   "cell_type": "code",
   "execution_count": 1,
   "metadata": {
    "collapsed": false
   },
   "outputs": [],
   "source": [
    "%matplotlib inline\n",
    "\n",
    "import json\n",
    "import zlib\n",
    "\n",
    "\n",
    "import seaborn as sns\n",
    "\n",
    "import config\n",
    "\n",
    "# Import\n",
    "with open(config.DATASET_MUCHOCINE, 'r') as fd:\n",
    "    documents = json.loads(zlib.decompress(fd.read()))"
   ]
  },
  {
   "cell_type": "markdown",
   "metadata": {},
   "source": [
    "## Split train-test"
   ]
  },
  {
   "cell_type": "code",
   "execution_count": 2,
   "metadata": {
    "collapsed": false
   },
   "outputs": [],
   "source": [
    "from collections import Counter\n",
    "\n",
    "from sklearn.model_selection import train_test_split\n",
    "import numpy as np\n",
    "\n",
    "SEED = 1\n",
    "train, test = train_test_split(documents, train_size=0.7, random_state=SEED)\n",
    "\n",
    "#TRAIN\n",
    "train_X = [Counter(doc['body_tokens']) for doc in train]\n",
    "train_Y = [float(x['rank']) for x in train]\n",
    "\n",
    "#TEST\n",
    "test_X = [Counter(doc['body_tokens']) for doc in test]\n",
    "test_Y = [float(x['rank']) for x in test]"
   ]
  },
  {
   "cell_type": "markdown",
   "metadata": {},
   "source": [
    "## Train model"
   ]
  },
  {
   "cell_type": "markdown",
   "metadata": {},
   "source": [
    "### TF-IDF"
   ]
  },
  {
   "cell_type": "code",
   "execution_count": 3,
   "metadata": {
    "collapsed": false
   },
   "outputs": [],
   "source": [
    "from sklearn.feature_extraction import DictVectorizer\n",
    "\n",
    "model_vectorizer = DictVectorizer()\n",
    "tr_data = model_vectorizer.fit_transform(train_X)"
   ]
  },
  {
   "cell_type": "code",
   "execution_count": 4,
   "metadata": {
    "collapsed": false
   },
   "outputs": [],
   "source": [
    "from sklearn.feature_extraction.text import TfidfTransformer\n",
    "\n",
    "model_tfidf = TfidfTransformer()\n",
    "tr_data = model_tfidf.fit_transform(tr_data).todense()"
   ]
  },
  {
   "cell_type": "code",
   "execution_count": 5,
   "metadata": {
    "collapsed": false
   },
   "outputs": [
    {
     "data": {
      "text/plain": [
       "(2714, 39127)"
      ]
     },
     "execution_count": 5,
     "metadata": {},
     "output_type": "execute_result"
    }
   ],
   "source": [
    "tr_data.shape"
   ]
  },
  {
   "cell_type": "markdown",
   "metadata": {},
   "source": [
    "#### Quick think\n",
    "\n",
    "39127 parameters to fit with only 2714 samples is a bad deal.\n",
    "\n",
    "It will be nice to reduce the terms to the n-most frequent."
   ]
  },
  {
   "cell_type": "code",
   "execution_count": 6,
   "metadata": {
    "collapsed": false
   },
   "outputs": [
    {
     "data": {
      "text/plain": [
       "<matplotlib.axes._subplots.AxesSubplot at 0x7f98194516d0>"
      ]
     },
     "execution_count": 6,
     "metadata": {},
     "output_type": "execute_result"
    },
    {
     "data": {
      "image/png": "[encoded data removed]",
      "text/plain": [
       "<matplotlib.figure.Figure at 0x7f98194510d0>"
      ]
     },
     "metadata": {},
     "output_type": "display_data"
    }
   ],
   "source": [
    "N = 1000\n",
    "\n",
    "terms_weight = sorted(zip(tr_data.sum(axis=0).tolist()[0], model_vectorizer.get_feature_names()), reverse=True)[:N]\n",
    "sns.distplot([x[0] for x in terms_weight], kde=False)"
   ]
  },
  {
   "cell_type": "markdown",
   "metadata": {},
   "source": [
    "### Feature model"
   ]
  },
  {
   "cell_type": "code",
   "execution_count": 7,
   "metadata": {
    "collapsed": false
   },
   "outputs": [],
   "source": [
    "from sklearn.feature_selection import SelectKBest\n",
    "from sklearn.feature_selection import f_regression\n",
    "\n",
    "N = 200  # Features to select\n",
    "\n",
    "model_feature = SelectKBest(f_regression, k=N)\n",
    "tr_data = model_feature.fit_transform(tr_data, train_Y)"
   ]
  },
  {
   "cell_type": "code",
   "execution_count": 8,
   "metadata": {
    "collapsed": false
   },
   "outputs": [
    {
     "data": {
      "text/plain": [
       "(2714, 200)"
      ]
     },
     "execution_count": 8,
     "metadata": {},
     "output_type": "execute_result"
    }
   ],
   "source": [
    "tr_data.shape"
   ]
  },
  {
   "cell_type": "markdown",
   "metadata": {},
   "source": [
    "### Standardize weights"
   ]
  },
  {
   "cell_type": "code",
   "execution_count": 9,
   "metadata": {
    "collapsed": false
   },
   "outputs": [],
   "source": [
    "from sklearn.preprocessing import StandardScaler\n",
    "\n",
    "model_scaler = StandardScaler(copy=True, with_mean=True, with_std=True)\n",
    "tr_data = model_scaler.fit_transform(tr_data)"
   ]
  },
  {
   "cell_type": "markdown",
   "metadata": {},
   "source": [
    "### Linear regression"
   ]
  },
  {
   "cell_type": "code",
   "execution_count": 10,
   "metadata": {
    "collapsed": false
   },
   "outputs": [
    {
     "data": {
      "text/plain": [
       "LinearRegression(copy_X=True, fit_intercept=True, n_jobs=1, normalize=False)"
      ]
     },
     "execution_count": 10,
     "metadata": {},
     "output_type": "execute_result"
    }
   ],
   "source": [
    "from sklearn.linear_model import LinearRegression\n",
    "\n",
    "model_LR = LinearRegression(n_jobs=1)\n",
    "tr_data = model_scaler.transform(tr_data)\n",
    "model_LR.fit(tr_data, train_Y)"
   ]
  },
  {
   "cell_type": "markdown",
   "metadata": {},
   "source": [
    "### MSE"
   ]
  },
  {
   "cell_type": "code",
   "execution_count": 11,
   "metadata": {
    "collapsed": true
   },
   "outputs": [],
   "source": [
    "from sklearn.metrics import mean_squared_error\n",
    "\n",
    "def predict(data):\n",
    "    return (\n",
    "        model_LR.predict(\n",
    "            model_scaler.transform(\n",
    "                model_feature.transform(\n",
    "                    model_tfidf.transform(\n",
    "                        model_vectorizer.transform(data)\n",
    "                    ).todense()\n",
    "                )\n",
    "            )\n",
    "        )\n",
    "    )"
   ]
  },
  {
   "cell_type": "code",
   "execution_count": 12,
   "metadata": {
    "collapsed": false
   },
   "outputs": [
    {
     "data": {
      "text/plain": [
       "1.2712053502386853"
      ]
     },
     "execution_count": 12,
     "metadata": {},
     "output_type": "execute_result"
    }
   ],
   "source": [
    "mean_squared_error(train_Y, predict(train_X))"
   ]
  },
  {
   "cell_type": "code",
   "execution_count": 13,
   "metadata": {
    "collapsed": false
   },
   "outputs": [
    {
     "data": {
      "text/plain": [
       "1.3150696043156578"
      ]
     },
     "execution_count": 13,
     "metadata": {},
     "output_type": "execute_result"
    }
   ],
   "source": [
    "mean_squared_error(test_Y, predict(test_X))"
   ]
  },
  {
   "cell_type": "code",
   "execution_count": 14,
   "metadata": {
    "collapsed": false,
    "scrolled": true
   },
   "outputs": [
    {
     "data": {
      "text/plain": [
       "(200,)"
      ]
     },
     "execution_count": 14,
     "metadata": {},
     "output_type": "execute_result"
    }
   ],
   "source": [
    "model_LR.coef_.shape"
   ]
  },
  {
   "cell_type": "markdown",
   "metadata": {},
   "source": [
    "## Selected vars"
   ]
  },
  {
   "cell_type": "code",
   "execution_count": 15,
   "metadata": {
    "collapsed": false
   },
   "outputs": [],
   "source": [
    "terms_selected = [\n",
    "    term\n",
    "    for term, appears in\n",
    "    zip(model_vectorizer.get_feature_names(),model_feature.get_support())\n",
    "    if appears\n",
    "]"
   ]
  },
  {
   "cell_type": "code",
   "execution_count": 16,
   "metadata": {
    "collapsed": false,
    "scrolled": true
   },
   "outputs": [
    {
     "data": {
      "text/plain": [
       "[(u'mejor', 0.001713783735862966),\n",
       " (u'film', 0.0014485294873798249),\n",
       " (u'mund', 0.0013470345196592566),\n",
       " (u'espartan', 0.0013309413117559398),\n",
       " (u'excelent', 0.0012870223690622073),\n",
       " (u'genial', 0.0012496171099285478),\n",
       " (u'perfect', 0.001243687410658571),\n",
       " (u'maravill', 0.0012033987114460707),\n",
       " (u'vid', 0.0010890352700525421),\n",
       " (u'violenci', 0.00091114409554354987),\n",
       " (u'imprescind', 0.00088508915922226312),\n",
       " (u'impresion', 0.00079433880683922511),\n",
       " (u'obra', 0.00078492508515546125),\n",
       " (u'sent', 0.00072518089887132489),\n",
       " (u'peliculon', 0.0006983781667679633),\n",
       " (u'dav', 0.00061842972321153925),\n",
       " (u'magistral', 0.00061257329422897402),\n",
       " (u'propi', 0.00060738743780185079),\n",
       " (u'sobresalient', 0.00059949115248513363),\n",
       " (u'brillant', 0.00058647359032831413),\n",
       " (u'vari', 0.00056986041668460072),\n",
       " (u'cad', 0.00056649094187987195),\n",
       " (u'dentr', 0.00055967279575836078),\n",
       " (u'magnif', 0.00055578774306511603),\n",
       " (u'9', 0.00048970183843736613),\n",
       " (u'plac', 0.00048429243430214757),\n",
       " (u'impact', 0.00046699603033337797),\n",
       " (u'unit', 0.00046674455411597159),\n",
       " (u'form', 0.00045860804093938111),\n",
       " (u'coen', 0.00044704171814004419),\n",
       " (u'estupend', 0.00043863626487921096),\n",
       " (u'shan', 0.00043514756256891142),\n",
       " (u'mir', 0.00042889516027398364),\n",
       " (u'viv', 0.00042411602839690125),\n",
       " (u'inocent', 0.00039826615740428821),\n",
       " (u'eastwood', 0.00039527368734519402),\n",
       " (u'maestr', 0.00039308453798491826),\n",
       " (u'marc', 0.00039251355142588752),\n",
       " (u'antolog', 0.00038312081829492057),\n",
       " (u'rechaz', 0.00038262478722125924),\n",
       " (u'gran', 0.00036633564193729365),\n",
       " (u'concienci', 0.00036557627144551358),\n",
       " (u'sencill', 0.00036533316532908058),\n",
       " (u'describ', 0.00036474921790507868),\n",
       " (u'emot', 0.00035998992769895803),\n",
       " (u'exquisit', 0.00035944781123693965),\n",
       " (u'trav', 0.00035809336593637926),\n",
       " (u'watanab', 0.00035426866071168852),\n",
       " (u'asient', 0.00034839330866414796),\n",
       " (u'llen', 0.00033328303462988498),\n",
       " (u'injust', 0.00032272183125390701),\n",
       " (u'libert', 0.00032103640548801786),\n",
       " (u'ama', 0.00031794364811806464),\n",
       " (u'decision', 0.00030334549307980198),\n",
       " (u'sarcast', 0.00029536957521815812),\n",
       " (u'maestri', 0.00029303387255381284),\n",
       " (u'llant', 0.00028077464779129827),\n",
       " (u'desconoc', 0.00025749899212866871),\n",
       " (u'desgarr', 0.00025749421923146874),\n",
       " (u'soberbi', 0.00025054041802706348),\n",
       " (u'admir', 0.00024390072888951501),\n",
       " (u'envidi', 0.00024153586197773195),\n",
       " (u'yan', 0.00024150507134793276),\n",
       " (u'tens', 0.00023396644412356909),\n",
       " (u'perfeccion', 0.00022639348824474463),\n",
       " (u'conmovedor', 0.00021770775624626237),\n",
       " (u'mald', 0.00021718057039226606),\n",
       " (u'sencillez', 0.0002118111604021756),\n",
       " (u'extraordinari', 0.00020788889556898983),\n",
       " (u'human', 0.00020360237793744679),\n",
       " (u'tragedi', 0.00020191522780163822),\n",
       " (u'cos', 0.00019107258245024337),\n",
       " (u'tragic', 0.00019041004310964627),\n",
       " (u'penetr', 0.00018378121995051569),\n",
       " (u'flori', 0.00018374980559351996),\n",
       " (u'93', 0.00017048146574128386),\n",
       " (u'dud', 0.00016007646038754673),\n",
       " (u'mediant', 0.00014369464700174033),\n",
       " (u'dejeis', 0.00013838939948535554),\n",
       " (u'recondit', 0.00012589882878703146),\n",
       " (u'guerr', 9.934907675621552e-05),\n",
       " (u'sentimient', 9.3575581833835043e-05),\n",
       " (u'milimetr', 8.5840250474378114e-05),\n",
       " (u'realist', 8.545822367347565e-05),\n",
       " (u'retrat', 7.247430471308774e-05),\n",
       " (u'personal', 6.4385850498533092e-05),\n",
       " (u'oscar', 5.141891474796096e-05),\n",
       " (u'barat', 4.3368106127883651e-05),\n",
       " (u'cag', 4.3092206289588615e-05),\n",
       " (u'entreten', 4.1350062545761866e-05),\n",
       " (u'engendr', 9.9070486469047267e-06),\n",
       " (u'mierd', 8.0655012994861595e-06),\n",
       " (u'next', 7.0571480821110099e-06),\n",
       " (u'pretenci', -2.3956381179413553e-05),\n",
       " (u'batiburrill', -5.3088005463650491e-05),\n",
       " (u'fotografi', -5.4941809144031618e-05),\n",
       " (u'3', -6.3041915895644708e-05),\n",
       " (u'anay', -6.4945319191950061e-05),\n",
       " (u'pas', -7.1476943270284071e-05),\n",
       " (u'desaprovech', -9.4952486015366226e-05),\n",
       " (u'predecesor', -9.5840621135822278e-05),\n",
       " (u'casta', -0.00011162726674234771),\n",
       " (u'sust', -0.00012182052137828768),\n",
       " (u'parch', -0.00012649140448612347),\n",
       " (u'eur', -0.00012772583544661822),\n",
       " (u'aguant', -0.00013668524964942721),\n",
       " (u'perg', -0.00013787618129573314),\n",
       " (u'cras', -0.00014135492704794991),\n",
       " (u'risibl', -0.00014436126189766531),\n",
       " (u'imagen', -0.00014896274329531217),\n",
       " (u'osti', -0.00015118719700747235),\n",
       " (u'superproduccion', -0.00015119728170395058),\n",
       " (u'vulg', -0.00015615106429835767),\n",
       " (u'flac', -0.00016486062726241938),\n",
       " (u'insoport', -0.00016806703782768347),\n",
       " (u'vay', -0.00018849463672721575),\n",
       " (u'encefalogram', -0.00019102916337742823),\n",
       " (u'nefast', -0.0002089339447897896),\n",
       " (u'sobrenatural', -0.00021081671517399149),\n",
       " (u'bochorn', -0.00021097323808821168),\n",
       " (u'verguenz', -0.00021369997030408223),\n",
       " (u'salvabl', -0.00021471845772492461),\n",
       " (u'patet', -0.00022079814858930467),\n",
       " (u'vergonz', -0.00022586847927179835),\n",
       " (u'bostez', -0.00022736417320490395),\n",
       " (u'median', -0.00024118118784605987),\n",
       " (u'vomit', -0.00025014871324680293),\n",
       " (u'pobr', -0.00025682104134945469),\n",
       " (u'inter', -0.000260389191708212),\n",
       " (u'trag', -0.00027896818954390752),\n",
       " (u'gast', -0.00028903938486905584),\n",
       " (u'pers', -0.00029048011183701531),\n",
       " (u'penos', -0.00029075740995616341),\n",
       " (u'den', -0.00029148099491828837),\n",
       " (u'muestr', -0.00030573404049993766),\n",
       " (u'cutr', -0.00030674902832872103),\n",
       " (u'insult', -0.00030887913643485774),\n",
       " (u'mojon', -0.00031010303299979381),\n",
       " (u'semej', -0.00032139250350582036),\n",
       " (u'avid', -0.00032322540239245232),\n",
       " (u'desastr', -0.00032581289210698158),\n",
       " (u'carent', -0.00033424381508445812),\n",
       " (u'jackson', -0.00035100421626678749),\n",
       " (u'diaz', -0.00035124373581648559),\n",
       " (u'dedic', -0.00035806840675407748),\n",
       " (u'incoherent', -0.00035925053909656614),\n",
       " (u'estup', -0.00036662397458084881),\n",
       " (u'tercer', -0.00037544599236627143),\n",
       " (u'absurd', -0.00037799681654218696),\n",
       " (u'posit', -0.00038233646357291513),\n",
       " (u'2', -0.00039946410599015571),\n",
       " (u'sos', -0.00040147610851794729),\n",
       " (u'secuel', -0.00040383728797533411),\n",
       " (u'minut', -0.00041630211832092599),\n",
       " (u'nicol', -0.00042324183766723384),\n",
       " (u'infum', -0.00042400409587784404),\n",
       " (u'taquill', -0.00043075712628455707),\n",
       " (u'burd', -0.0004313285772383612),\n",
       " (u'ah', -0.00043699012225552228),\n",
       " (u'vam', -0.00045398328191208757),\n",
       " (u'bastant', -0.00046077623829309791),\n",
       " (u'insuls', -0.00046550967978115619),\n",
       " (u'argument', -0.00046600129899402036),\n",
       " (u'desproposit', -0.00047102540339069956),\n",
       " (u'telefilm', -0.00048242265761408172),\n",
       " (u'tram', -0.00048700182274508266),\n",
       " (u'tru', -0.00048808922423983393),\n",
       " (u'simplon', -0.00049720669988617791),\n",
       " (u'sag', -0.00052023133080221376),\n",
       " (u'pint', -0.00052026168837798769),\n",
       " (u'tedios', -0.00052040634056522744),\n",
       " (u'lig', -0.00055431124538897773),\n",
       " (u'bodri', -0.00057897095067527878),\n",
       " (u'lector', -0.00061206423301650035),\n",
       " (u'minim', -0.00061918165833450302),\n",
       " (u'hab', -0.00066130874240595972),\n",
       " (u'dig', -0.00067649075623858225),\n",
       " (u'ide', -0.00069910471125475256),\n",
       " (u'eragon', -0.00070161403247197621),\n",
       " (u'lament', -0.00071443298527264936),\n",
       " (u'mal', -0.00072638811912271745),\n",
       " (u'fall', -0.00072738454439701854),\n",
       " (u'siqu', -0.0007487630812643498),\n",
       " (u'ridicul', -0.00075135031464130956),\n",
       " (u'salv', -0.00075663949704060337),\n",
       " (u'ciert', -0.00076788322335396176),\n",
       " (u'men', -0.00077410009305363338),\n",
       " (u'topic', -0.00077779220434099532),\n",
       " (u'decepcion', -0.00078194002587399529),\n",
       " (u'alatr', -0.00078533781827035652),\n",
       " (u'tampoc', -0.0008968925628378996),\n",
       " (u'algun', -0.00090208897854294871),\n",
       " (u'product', -0.00090391988925410285),\n",
       " (u'previs', -0.00091112284413675691),\n",
       " (u'pretend', -0.0010789820152956036),\n",
       " (u'mediocr', -0.0010804007313971074),\n",
       " (u'intent', -0.0013837127123560613),\n",
       " (u'peor', -0.0014600322025892154),\n",
       " (u'parec', -0.0014640755717033258),\n",
       " (u'aburr', -0.001732305107526083)]"
      ]
     },
     "execution_count": 16,
     "metadata": {},
     "output_type": "execute_result"
    }
   ],
   "source": [
    "sorted(zip(terms_selected, model_LR.coef_),  key=lambda (_,x):x, reverse=True)"
   ]
  },
  {
   "cell_type": "markdown",
   "metadata": {},
   "source": [
    "# Human test"
   ]
  },
  {
   "cell_type": "code",
   "execution_count": 17,
   "metadata": {
    "collapsed": true
   },
   "outputs": [],
   "source": [
    "# Función de pasar textos a tokens, del cuaderno anterior\n",
    "\n",
    "STOPWORDS = set('''\n",
    "a al algo algunas algunos ante antes como con contra cual cuando de del desde donde durante e el ella ellas ellos\n",
    "en entre era erais eran eras eres es esa esas ese eso esos esta estaba estabais estaban estabas estad estada estadas\n",
    "estado estados estamos estando estar estaremos estara estaran estaras estare estareis estaria estariais estariamos\n",
    "estarian estarias estas este estemos esto estos estoy estuve estuviera estuvierais estuvieran estuvieras estuvieron\n",
    "estuviese estuvieseis estuviesen estuvieses estuvimos estuviste estuvisteis estuvieramos estuviesemos estuvo esta\n",
    "estabamos estais estan estas este esteis esten estes fue fuera fuerais fueran fueras fueron fuese fueseis fuesen fueses\n",
    "fui fuimos fuiste fuisteis fueramos fuesemos ha habida habidas habido habidos habiendo habremos habra habran habras\n",
    "habre habreis habria habriais habriamos habrian habrias habeis habia habiais habiamos habian habias han has hasta\n",
    "hay haya hayamos hayan hayas hayais he hemos hube hubiera hubierais hubieran hubieras hubieron hubiese hubieseis\n",
    "hubiesen hubieses hubimos hubiste hubisteis hubieramos hubiesemos hubo la las le les lo los me mi mis mucho muchos\n",
    "muy mas mi mia mias mio mios nada ni no nos nosotras nosotros nuestra nuestras nuestro nuestros o os otra otras otro\n",
    "otros para pero poco por porque que quien quienes que se sea seamos sean seas sentid sentida sentidas sentido sentidos\n",
    "seremos sera seran seras sere sereis seria seriais seriamos serian serias seais siente sin sintiendo sobre sois somos\n",
    "son soy su sus suya suyas suyo suyos si tambien tanto te tendremos tendra tendran tendras tendre tendreis tendria\n",
    "tendriais tendriamos tendrian tendrias tened tenemos tenga tengamos tengan tengas tengo tengais tenida tenidas tenido\n",
    "tenidos teniendo teneis tenia teniais teniamos tenian tenias ti tiene tienen tienes todo todos tu tus tuve tuviera\n",
    "tuvierais tuvieran tuvieras tuvieron tuviese tuvieseis tuviesen tuvieses tuvimos tuviste tuvisteis tuvieramos tuviesemos\n",
    "tuvo tuya tuyas tuyo tuyos tu un una uno unos vosostras vosostros vuestra vuestras vuestro vuestros y ya yo el eramos\n",
    "'''.split())\n",
    "\n",
    "from nltk.stem.snowball import SpanishStemmer\n",
    "stemmer = SpanishStemmer()\n",
    "\n",
    "def txt2words(txt):\n",
    "    txt = txt.lower()  # Text in lowercase\n",
    "    table = dict(zip( #  Quitar tildes\n",
    "        [ord(x) for x in u'áéíóúü'],\n",
    "        [ord(x) for x in u'aeiouu']\n",
    "    ))\n",
    "    txt = txt.translate(table)    \n",
    "    txt = ''.join([\n",
    "        letter for letter in txt \n",
    "        if letter in set(u'abcdefghijklmnñopqrstuvwxyz0123456789 ')]\n",
    "    )\n",
    "    words = [\n",
    "        stemmer.stem(w)\n",
    "        for w in txt.split(' ')\n",
    "        if w!='' and w not in STOPWORDS\n",
    "    ]\n",
    "    return words"
   ]
  },
  {
   "cell_type": "code",
   "execution_count": 18,
   "metadata": {
    "collapsed": true
   },
   "outputs": [],
   "source": [
    "def sentiment(txt):\n",
    "    return predict(Counter(txt2words(txt)))"
   ]
  },
  {
   "cell_type": "code",
   "execution_count": 19,
   "metadata": {
    "collapsed": false
   },
   "outputs": [
    {
     "data": {
      "text/plain": [
       "array([ 3.12112853])"
      ]
     },
     "execution_count": 19,
     "metadata": {},
     "output_type": "execute_result"
    }
   ],
   "source": [
    "sentiment(u\"La película me pareció una obra maestra y genial.\")"
   ]
  },
  {
   "cell_type": "code",
   "execution_count": 20,
   "metadata": {
    "collapsed": false,
    "scrolled": true
   },
   "outputs": [
    {
     "data": {
      "text/plain": [
       "array([ 2.99744358])"
      ]
     },
     "execution_count": 20,
     "metadata": {},
     "output_type": "execute_result"
    }
   ],
   "source": [
    "sentiment(u\"La película es aburrida, mala, una mierda\")"
   ]
  },
  {
   "cell_type": "markdown",
   "metadata": {},
   "source": [
    "# Conclusion"
   ]
  },
  {
   "cell_type": "markdown",
   "metadata": {},
   "source": [
    "2 different problems.\n",
    "\n",
    "* Good ranking words.\n",
    "* Bad modelling prediction."
   ]
  },
  {
   "cell_type": "code",
   "execution_count": 21,
   "metadata": {
    "collapsed": false,
    "scrolled": false
   },
   "outputs": [
    {
     "data": {
      "text/plain": [
       "<matplotlib.axes._subplots.AxesSubplot at 0x7f9817fbb490>"
      ]
     },
     "execution_count": 21,
     "metadata": {},
     "output_type": "execute_result"
    },
    {
     "data": {
      "image/png": "[encoded data removed]",
      "text/plain": [
       "<matplotlib.figure.Figure at 0x7f9817fbb210>"
      ]
     },
     "metadata": {},
     "output_type": "display_data"
    }
   ],
   "source": [
    "sns.distplot(train_Y, kde=False, norm_hist=True )"
   ]
  },
  {
   "cell_type": "code",
   "execution_count": 22,
   "metadata": {
    "collapsed": false,
    "scrolled": false
   },
   "outputs": [
    {
     "data": {
      "text/plain": [
       "<matplotlib.axes._subplots.AxesSubplot at 0x7f9814381250>"
      ]
     },
     "execution_count": 22,
     "metadata": {},
     "output_type": "execute_result"
    },
    {
     "data": {
      "image/png": "[encoded data removed]",
      "text/plain": [
       "<matplotlib.figure.Figure at 0x7f9814388450>"
      ]
     },
     "metadata": {},
     "output_type": "display_data"
    }
   ],
   "source": [
    "sns.distplot(predict(train_X), kde=False, norm_hist=True )"
   ]
  },
  {
   "cell_type": "code",
   "execution_count": 23,
   "metadata": {
    "collapsed": false,
    "scrolled": false
   },
   "outputs": [
    {
     "data": {
      "text/plain": [
       "<matplotlib.axes._subplots.AxesSubplot at 0x7f9819e18d90>"
      ]
     },
     "execution_count": 23,
     "metadata": {},
     "output_type": "execute_result"
    },
    {
     "data": {
      "image/png": "[encoded data removed]",
      "text/plain": [
       "<matplotlib.figure.Figure at 0x7f98142315d0>"
      ]
     },
     "metadata": {},
     "output_type": "display_data"
    }
   ],
   "source": [
    "sns.distplot(train_Y, kde=False, norm_hist=True )\n",
    "sns.distplot(predict(train_X), kde=False, norm_hist=True )"
   ]
  },
  {
   "cell_type": "markdown",
   "metadata": {},
   "source": [
    "# The last punch!"
   ]
  },
  {
   "cell_type": "code",
   "execution_count": 24,
   "metadata": {
    "collapsed": true
   },
   "outputs": [],
   "source": [
    "q = predict(train_X)\n",
    "\n",
    "def sentiment2(txt):\n",
    "    pred = predict(Counter(txt2words(txt)))\n",
    "    return (pred-q.mean())/(q.max()-q.min())*(1-(-1))"
   ]
  },
  {
   "cell_type": "code",
   "execution_count": 25,
   "metadata": {
    "collapsed": false,
    "scrolled": true
   },
   "outputs": [
    {
     "data": {
      "text/plain": [
       "array([ 1.28458163])"
      ]
     },
     "execution_count": 25,
     "metadata": {},
     "output_type": "execute_result"
    }
   ],
   "source": [
    "sentiment2(u\"La película me pareció una obra maestra y genial.\")"
   ]
  },
  {
   "cell_type": "code",
   "execution_count": 26,
   "metadata": {
    "collapsed": false
   },
   "outputs": [
    {
     "data": {
      "text/plain": [
       "array([-1.11480351])"
      ]
     },
     "execution_count": 26,
     "metadata": {},
     "output_type": "execute_result"
    }
   ],
   "source": [
    "sentiment2(u\"La película es aburrida, mala, una mierda\")"
   ]
  },
  {
   "cell_type": "code",
   "execution_count": 27,
   "metadata": {
    "collapsed": false
   },
   "outputs": [
    {
     "data": {
      "text/plain": [
       "array([ 0.01410884])"
      ]
     },
     "execution_count": 27,
     "metadata": {},
     "output_type": "execute_result"
    }
   ],
   "source": [
    "sentiment2(u\"volveré a verla ya que la actuacion buena\")"
   ]
  },
  {
   "cell_type": "code",
   "execution_count": 29,
   "metadata": {
    "collapsed": false
   },
   "outputs": [
    {
     "data": {
      "text/plain": [
       "array([-0.07699173])"
      ]
     },
     "execution_count": 29,
     "metadata": {},
     "output_type": "execute_result"
    }
   ],
   "source": [
    "sentiment2(u\"los oscars se los regalaron, vaya pérdida de tiempo\")"
   ]
  },
  {
   "cell_type": "code",
   "execution_count": 30,
   "metadata": {
    "collapsed": false
   },
   "outputs": [
    {
     "data": {
      "text/plain": [
       "array([ 0.28917081])"
      ]
     },
     "execution_count": 30,
     "metadata": {},
     "output_type": "execute_result"
    }
   ],
   "source": [
    "sentiment2(u\"el actor es un capullo pero le gustó a mi novia porque ejerce la violencia inteligentemente\")"
   ]
  }
 ],
 "metadata": {
  "kernelspec": {
   "display_name": "Python 2",
   "language": "python",
   "name": "python2"
  },
  "language_info": {
   "codemirror_mode": {
    "name": "ipython",
    "version": 2
   },
   "file_extension": ".py",
   "mimetype": "text/x-python",
   "name": "python",
   "nbconvert_exporter": "python",
   "pygments_lexer": "ipython2",
   "version": "2.7.12"
  }
 },
 "nbformat": 4,
 "nbformat_minor": 2
}
